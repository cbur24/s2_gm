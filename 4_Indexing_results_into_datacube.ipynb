{
 "cells": [
  {
   "cell_type": "markdown",
   "metadata": {},
   "source": [
    "# Indexing S2 geomedian results into the datacube\n",
    "\n",
    "After running geomedians over the golden testing tiles, the next step is to index the results into the datacube. We will do this into the _dev_ environments."
   ]
  },
  {
   "cell_type": "markdown",
   "metadata": {},
   "source": [
    "## Step 1: Create a product definition"
   ]
  },
  {
   "cell_type": "markdown",
   "metadata": {},
   "source": [
    "* Go to DE Australia's [config github repository](https://github.com/GeoscienceAustralia/dea-config) to create a product definition. Some docs on product definitions are [here](https://opendatacube.readthedocs.io/en/latest/installation/product-definitions.html).\n",
    "* In the [geomedian-au/](https://github.com/GeoscienceAustralia/dea-config/tree/master/products/baseline_satellite_data/geomedian-au) folder make a new product definition yaml, copying an existing one and editing is helpful e.g. `ga_ls8cls9c_gm_cyear_3.odc-product.yaml`\n"
   ]
  }
 ],
 "metadata": {
  "kernelspec": {
   "display_name": "Python 3 (ipykernel)",
   "language": "python",
   "name": "python3"
  },
  "language_info": {
   "codemirror_mode": {
    "name": "ipython",
    "version": 3
   },
   "file_extension": ".py",
   "mimetype": "text/x-python",
   "name": "python",
   "nbconvert_exporter": "python",
   "pygments_lexer": "ipython3",
   "version": "3.10.15"
  }
 },
 "nbformat": 4,
 "nbformat_minor": 4
}
