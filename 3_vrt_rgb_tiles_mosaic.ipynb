{
 "cells": [
  {
   "cell_type": "code",
   "execution_count": null,
   "id": "d03b9457-a87e-4e26-ae82-1b90df51bd03",
   "metadata": {},
   "outputs": [],
   "source": [
    "import subprocess\n",
    "import shutil\n",
    "import s3fs\n",
    "import os\n",
    "import re\n",
    "from collections import defaultdict"
   ]
  },
  {
   "cell_type": "code",
   "execution_count": null,
   "id": "35ef4bae-83bd-4022-9829-fe0c874d6e30",
   "metadata": {},
   "outputs": [],
   "source": [
    "product = 'ga_s2_gm_cyear_3'\n",
    "version = '0-0-1'\n",
    "year = 2020\n",
    "dataset_maturity = 'final'\n",
    "bucket = \"dea-public-data-dev\"\n",
    "http_prefix = \"https://dea-public-data-dev.s3.ap-southeast-2.amazonaws.com\""
   ]
  },
  {
   "cell_type": "markdown",
   "id": "ad870f80-1b28-497c-9b13-eb89c97fc28b",
   "metadata": {},
   "source": [
    "## RGB vrts"
   ]
  },
  {
   "cell_type": "code",
   "execution_count": null,
   "id": "8b1b9e8f-697a-47db-ac44-b5ee2d8c7a37",
   "metadata": {},
   "outputs": [],
   "source": [
    "# connect to public S3 bucket\n",
    "fs = s3fs.S3FileSystem(anon=True)\n",
    "\n",
    "# search for all RGB COGs\n",
    "search_path = f\"{bucket}/{product}/{version}/**/**/{year}--P3Y/{product}_*{year}--P3Y_{dataset_maturity}_*.tif\"\n",
    "all_cogs = fs.glob(search_path)\n",
    "\n",
    "# group files by tile ID (based on filename)\n",
    "tiles = defaultdict(dict)\n",
    "for path in all_cogs:\n",
    "    filename = os.path.basename(path)\n",
    "    match = re.search(r\"_(red|green|blue)\\.tif$\", filename)\n",
    "    if match:\n",
    "        band = match.group(1)\n",
    "        tile_id = filename.replace(f\"_{band}.tif\", \"\")\n",
    "        # remove bucket name to make relative path\n",
    "        relative_path = path.replace(f\"{bucket}/\", \"\")\n",
    "        url = f\"/vsicurl/{http_prefix}/{relative_path}\"\n",
    "        tiles[tile_id][band] = url\n",
    "\n",
    "# create folder for tiles' VRTs\n",
    "os.makedirs(\"tile_vrts\", exist_ok=True)\n",
    "\n",
    "# create RGB VRT for each tile\n",
    "tile_vrts = []\n",
    "for tile_id, bands in tiles.items():\n",
    "    if all(b in bands for b in (\"red\", \"green\", \"blue\")):\n",
    "        vrt_path = f\"tile_vrts/{tile_id}.vrt\"\n",
    "        subprocess.run([\n",
    "            \"gdalbuildvrt\", \"-separate\", vrt_path,\n",
    "            bands[\"red\"], bands[\"green\"], bands[\"blue\"]\n",
    "        ], check=True)\n",
    "        tile_vrts.append(vrt_path)\n",
    "\n",
    "# save list of tile VRTs\n",
    "with open(\"tile_list.txt\", \"w\") as f:\n",
    "    for vrt in tile_vrts:\n",
    "        f.write(vrt + \"\\n\")\n",
    "\n",
    "# Build the final RGB mosaic VRT\n",
    "subprocess.run([\n",
    "    \"gdalbuildvrt\", \"-input_file_list\", \"tile_list.txt\", \"rgb_mosaic.vrt\"\n",
    "], check=True)\n",
    "\n",
    "\n",
    "shutil.make_archive(\"tile_vrts\", 'zip', \"tile_vrts\")\n",
    "print(\"Created tile_vrts.zip\")"
   ]
  },
  {
   "cell_type": "markdown",
   "id": "3738311e-ff5a-43dd-a305-00e4ec4ba87d",
   "metadata": {},
   "source": [
    "## Clear count vrt \n"
   ]
  },
  {
   "cell_type": "code",
   "execution_count": null,
   "id": "911039d9-e569-4a10-bf91-54ebc9ce22a6",
   "metadata": {},
   "outputs": [],
   "source": [
    "# connect to public S3 bucket\n",
    "fs = s3fs.S3FileSystem(anon=True)\n",
    "\n",
    "# search for all RGB COGs\n",
    "search_path = f\"{bucket}/{product}/{version}/**/**/{year}--P3Y/{product}_*{year}--P3Y_{dataset_maturity}_*.tif\"\n",
    "all_cogs = fs.glob(search_path)\n",
    "\n",
    "# group files by tile ID (based on filename)\n",
    "tiles = defaultdict(dict)\n",
    "for path in all_cogs:\n",
    "    filename = os.path.basename(path)\n",
    "    match = re.search(r\"_(count)\\.tif$\", filename)\n",
    "    if match:\n",
    "        band = match.group(1)\n",
    "        tile_id = filename.replace(f\"_{band}.tif\", \"\")\n",
    "        # remove bucket name to make relative path\n",
    "        relative_path = path.replace(f\"{bucket}/\", \"\")\n",
    "        url = f\"/vsicurl/{http_prefix}/{relative_path}\"\n",
    "        tiles[tile_id][band] = url\n",
    "\n",
    "# create folder for tiles' VRTs\n",
    "os.makedirs(\"tile_vrts_count\", exist_ok=True)\n",
    "\n",
    "# create RGB VRT for each tile\n",
    "tile_vrts = []\n",
    "for tile_id, bands in tiles.items():\n",
    "    if all(b in bands for b in (\"count\",)):\n",
    "        print(band)\n",
    "        vrt_path = f\"tile_vrts_count/{tile_id}.vrt\"\n",
    "        subprocess.run([\n",
    "            \"gdalbuildvrt\", \"-separate\", vrt_path,\n",
    "            bands[\"count\"]\n",
    "        ], check=True)\n",
    "        tile_vrts.append(vrt_path)\n",
    "\n",
    "# save list of tile VRTs\n",
    "with open(\"tile_list_count.txt\", \"w\") as f:\n",
    "    for vrt in tile_vrts:\n",
    "        f.write(vrt + \"\\n\")\n",
    "\n",
    "# Build the final RGB mosaic VRT\n",
    "subprocess.run([\n",
    "    \"gdalbuildvrt\", \"-input_file_list\", \"tile_list_count.txt\", \"clear_count_mosaic.vrt\"\n",
    "], check=True)\n",
    "\n",
    "shutil.make_archive(\"tile_vrts_count\", 'zip', \"tile_vrts_count\")\n",
    "print(\"Created tile_vrts_count.zip\")"
   ]
  },
  {
   "cell_type": "code",
   "execution_count": null,
   "id": "b205067b-1593-46b1-bad4-24c755b579bf",
   "metadata": {},
   "outputs": [],
   "source": []
  }
 ],
 "metadata": {
  "kernelspec": {
   "display_name": "Python 3 (ipykernel)",
   "language": "python",
   "name": "python3"
  },
  "language_info": {
   "codemirror_mode": {
    "name": "ipython",
    "version": 3
   },
   "file_extension": ".py",
   "mimetype": "text/x-python",
   "name": "python",
   "nbconvert_exporter": "python",
   "pygments_lexer": "ipython3",
   "version": "3.10.15"
  }
 },
 "nbformat": 4,
 "nbformat_minor": 5
}
