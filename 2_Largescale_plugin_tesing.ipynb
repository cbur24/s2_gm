{
 "cells": [
  {
   "cell_type": "markdown",
   "id": "0c2dc7f8-8b93-4468-b648-86461e3b85d3",
   "metadata": {},
   "source": [
    "# Run Sentinel-2 Geomedian with odc-stats over larger testing tile suite\n"
   ]
  },
  {
   "cell_type": "code",
   "execution_count": null,
   "id": "0661b435-5365-4a4b-9196-c406b2ba99bf",
   "metadata": {},
   "outputs": [],
   "source": [
    "# !pip uninstall odc-dscache -y\n",
    "# !pip install --no-deps ~/git/odc-dscache/"
   ]
  },
  {
   "cell_type": "code",
   "execution_count": null,
   "id": "054ac0e5-bbac-430a-9599-5e590c9baf9c",
   "metadata": {},
   "outputs": [],
   "source": [
    "# !pip install -U odc-stats\n",
    "# !pip uninstall odc-algo -y\n",
    "# !pip install --no-deps git+https://github.com/opendatacube/odc-algo@adb1856\n",
    "\n",
    "# !pip uninstall odc-dscache -y\n",
    "# !pip install --no-deps ~/git/odc-dscache/\n",
    "\n",
    "#### !pip install git+https://github.com/opendatacube/odc-algo.git"
   ]
  },
  {
   "cell_type": "code",
   "execution_count": null,
   "id": "fcb8abd6-384e-4c95-81a5-09c7df86f80b",
   "metadata": {},
   "outputs": [],
   "source": [
    "import os\n",
    "import json\n",
    "import warnings\n",
    "import xarray as xr\n",
    "import rioxarray as rxr\n",
    "import geopandas as gpd\n",
    "import matplotlib.pyplot as plt\n",
    "from odc.geo.xr import assign_crs\n",
    "from odc.stats.tasks import TaskReader\n",
    "from odc.stats.model import OutputProduct\n",
    "\n",
    "warnings.filterwarnings(\"ignore\")"
   ]
  },
  {
   "cell_type": "markdown",
   "id": "51eadcd4-fcd0-4d68-a8b6-0d6b617bbaaf",
   "metadata": {},
   "source": [
    "## Analysis Parameters\n"
   ]
  },
  {
   "cell_type": "code",
   "execution_count": null,
   "id": "c8d46250-ec43-482c-bb43-fb13cb1533d0",
   "metadata": {},
   "outputs": [],
   "source": [
    "t_range = '2020--P3Y'\n",
    "resolution = 10 # can coarsen resolution to run to speed up testing\n",
    "products='ga_s2am_ard_3-ga_s2bm_ard_3-ga_s2cm_ard_3' # use all S2 observations\n",
    "name, version = 'ga_s2_gm_cyear_3', '0-0-1' #product name and version\n",
    "results = '/gdata1/projects/s2_gm/results/' #where are we outputting results?\n",
    "ncpus=35\n",
    "mem='470'"
   ]
  },
  {
   "cell_type": "markdown",
   "id": "a647db17-9b8b-4c73-8dcf-f0b9a35b96f5",
   "metadata": {},
   "source": [
    "## Save tasks database etc."
   ]
  },
  {
   "cell_type": "code",
   "execution_count": null,
   "id": "fe4d389a-d341-4a4f-9f8d-3f01f0e8ab75",
   "metadata": {},
   "outputs": [],
   "source": [
    "%%time\n",
    "os.system(\"odc-stats save-tasks \"\\\n",
    "          \"--grid au_extended_small_10 \"\\\n",
    "          f\"--input-products {products} \"\\\n",
    "          f\"--temporal-range {t_range} \"\\\n",
    "          f\"--frequency all\" \\\n",
    "         )"
   ]
  },
  {
   "cell_type": "markdown",
   "id": "0b3cb81d-4a20-4783-aa6a-900316de5175",
   "metadata": {},
   "source": [
    "## Find list of tile indexes to run"
   ]
  },
  {
   "cell_type": "code",
   "execution_count": null,
   "id": "9d36e446-4e9d-4399-aad5-0b1f03ae546e",
   "metadata": {},
   "outputs": [],
   "source": [
    "# gdf_test_tiles = gpd.read_file('~/gdata1/projects/s2_gm/data/testing_tile_suite.geojson')\n",
    "# gdf_mini_tiles = gpd.read_file('/home/jovyan/gdata1/projects/s2_gm/data/au_extented_smalltiles.geojson')\n",
    "# gdf_mini_tiles_tests = gdf_mini_tiles.overlay(gdf_test_tiles[['geometry']], how='intersection')\n",
    "\n",
    "# gdf_mini_tiles_tests['area'] = gdf_mini_tiles_tests.area\n",
    "# gdf_mini_tiles_tests = gdf_mini_tiles_tests[gdf_mini_tiles_tests['area'] > 0.01]\n",
    "# gdf_mini_tiles_tests = gdf_mini_tiles_tests.drop('area', axis=1)\n",
    "\n",
    "# gdf_mini_tiles_tests.to_file('~/gdata1/projects/s2_gm/data/testing_minitile_suite.geojson')\n",
    "# gdf_mini_tiles_tests"
   ]
  },
  {
   "cell_type": "code",
   "execution_count": null,
   "id": "aaf2e8b6-25e9-4064-ae4b-fa44d4ebbe2a",
   "metadata": {},
   "outputs": [],
   "source": [
    "gdf = gpd.read_file('/home/jovyan/gdata1/projects/s2_gm/data/testing_minitile_suite.geojson')"
   ]
  },
  {
   "cell_type": "code",
   "execution_count": null,
   "id": "e5393563-3ef3-4801-9848-e4c84e62ba24",
   "metadata": {},
   "outputs": [],
   "source": [
    "## Open the task database to find out tiles\n",
    "op = OutputProduct(\n",
    "        name=name,\n",
    "        version=version,\n",
    "        short_name=name,\n",
    "        location=f\"s3://dummy-bucket/{name}/{version}\",\n",
    "        properties={\"odc:file_format\": \"GeoTIFF\"},\n",
    "        measurements=['nbart_red']\n",
    "    )\n",
    "\n",
    "taskdb = TaskReader(f'{products}_{t_range}.db', product=op)\n",
    "\n",
    "i=0\n",
    "tile_indexes_to_run = []\n",
    "for index, row in gdf.iterrows():\n",
    "    print(f'Feature: {i + 1}/{len(gdf)}\\r', end=\"\")\n",
    "    \n",
    "    t = int(row['region_code'][1:4]), int(row['region_code'][-3:])\n",
    "    \n",
    "    task = taskdb.load_task([f'{t_range}', t[0], t[1]])\n",
    "    # Now find index of the tile we want to run\n",
    "    all_tiles = list(taskdb.all_tiles)\n",
    "    for idx, index in zip(all_tiles, range(0, len(all_tiles))):\n",
    "        if (idx[1]==t[0]) & (idx[2]==t[1]):\n",
    "            tile_indexes_to_run.append(index)\n",
    "            # if row['region_code']=='x115y056':\n",
    "            #     print(index)\n",
    "    \n",
    "    i+=1"
   ]
  },
  {
   "cell_type": "markdown",
   "id": "aa9a6776-b862-419b-8d1d-2807f8430bf4",
   "metadata": {},
   "source": [
    "## Run tiles in serial\n",
    "\n",
    "https://app.sandbox.dea.ga.gov.au/user/chad.burton@ga.gov.au/proxy/8787/status"
   ]
  },
  {
   "cell_type": "code",
   "execution_count": null,
   "id": "3d3bf1eb-7f41-4f5a-8010-f041818ef087",
   "metadata": {},
   "outputs": [],
   "source": [
    "!pip uninstall s2_gm_tools -y\n",
    "!pip install s2_gm_tools/"
   ]
  },
  {
   "cell_type": "code",
   "execution_count": null,
   "id": "9831ba5e-c8ba-45f6-9f63-fa74fe5957f0",
   "metadata": {
    "scrolled": true
   },
   "outputs": [],
   "source": [
    "for tile in tile_indexes_to_run[100:]:\n",
    "    print(f\"Starting tile: {tile}\")\n",
    "\n",
    "    os.system(\"odc-stats run \"\\\n",
    "              f\"{products}_{t_range}.db \"\\\n",
    "              \"--config=s2_gm_tools/s2_gm_tools/config/config_gm_s2_annual_s2Cloudless_enhanced.yaml \"\\\n",
    "              f\"--resolution={resolution} \"\\\n",
    "              f\"--threads={ncpus} \"\\\n",
    "              f\"--memory-limit={mem}Gi \"\\\n",
    "              f\"--location=file:///home/jovyan/{results}{name}/{version} \" +f'{tile}'\n",
    "             )\n"
   ]
  },
  {
   "cell_type": "code",
   "execution_count": null,
   "id": "3d7bf4fb-ab8a-430c-949c-f10e0db1f242",
   "metadata": {},
   "outputs": [],
   "source": [
    "# ds = assign_crs(xr.open_dataarray('results/ga_s2_gm_cyear_3/0-0-1/x60/y68/2020--P3Y/ga_s2_gm_cyear_3_x60y68_2020--P3Y_final_nbart_red.tif'), crs='EPSG:3577')"
   ]
  },
  {
   "cell_type": "code",
   "execution_count": null,
   "id": "9ac9da6d-5c3a-4c53-b8ea-7a342ef01a84",
   "metadata": {},
   "outputs": [],
   "source": [
    "# ds.squeeze().odc.explore()"
   ]
  },
  {
   "cell_type": "code",
   "execution_count": null,
   "id": "89b04a1c-eb95-43f1-b7e1-ec4118c32f85",
   "metadata": {},
   "outputs": [],
   "source": [
    "# ds.squeeze().plot.imshow(vmin=10, vmax=90, cmap='magma', size=10)"
   ]
  },
  {
   "cell_type": "code",
   "execution_count": null,
   "id": "59411428-971b-4581-bb42-db968dfd7e21",
   "metadata": {},
   "outputs": [],
   "source": []
  },
  {
   "cell_type": "markdown",
   "id": "60c19258-ed6f-4904-8c98-d796c5917e64",
   "metadata": {},
   "source": [
    "## Run tiles in parallel"
   ]
  },
  {
   "cell_type": "code",
   "execution_count": null,
   "id": "f7c5b69c-6278-46aa-8987-7a1211196f30",
   "metadata": {},
   "outputs": [],
   "source": [
    "MAX_PROCESSES = 3\n",
    "total_cpus=95\n",
    "total_mem = 705"
   ]
  },
  {
   "cell_type": "code",
   "execution_count": null,
   "id": "79a5b372-ebcc-48a3-b447-c1f300e403cb",
   "metadata": {
    "scrolled": true
   },
   "outputs": [],
   "source": [
    "import subprocess\n",
    "import time\n",
    "\n",
    "active_processes = []\n",
    "\n",
    "for tile in tile_indexes_to_run[2:]:\n",
    "    print(f\"Starting tile: {tile}\")\n",
    "\n",
    "    cmd = [\n",
    "        \"odc-stats\", \"run\", f\"{products}_{t_range}.db\",\n",
    "        \"--threads\", f\"{int(total_cpus/MAX_PROCESSES)}\",\n",
    "        \"--memory-limit\", f\"{int(total_mem/MAX_PROCESSES)}Gi\",\n",
    "        \"--config\", \"s2_gm_tools/s2_gm_tools/config/config_gm_s2_annual_s2Cloudless_enhanced.yaml\",\n",
    "        \"--location\", f\"file:///home/jovyan/{results}{name}/{version}\",\n",
    "        \"--resolution\", f\"{resolution} \",\n",
    "        f'{tile}'\n",
    "    ]\n",
    "\n",
    "    # Start process\n",
    "    p = subprocess.Popen(cmd)\n",
    "    active_processes.append(p)\n",
    "\n",
    "    # Wait if too many processes are running\n",
    "    while len(active_processes) >= MAX_PROCESSES:\n",
    "        # Remove any finished processes\n",
    "        active_processes = [proc for proc in active_processes if proc.poll() is None]\n",
    "        time.sleep(1)\n",
    "\n",
    "# Wait for any remaining processes to finish\n",
    "for p in active_processes:\n",
    "    p.wait()\n"
   ]
  },
  {
   "cell_type": "markdown",
   "id": "7f8cae5b-4209-407c-b6ea-3e11685800c6",
   "metadata": {},
   "source": [
    "## Sync results to AWS"
   ]
  },
  {
   "cell_type": "code",
   "execution_count": null,
   "id": "ee600e78-9758-4f6a-884e-887f805548db",
   "metadata": {},
   "outputs": [],
   "source": [
    "# aws --profile user1 s3 sync results/ga_s2_gm_cyear_3  s3://dea-public-data-dev/ga_s2_gm_cyear_3/"
   ]
  },
  {
   "cell_type": "markdown",
   "id": "63a6572f-855f-4576-8f5d-17207bb1167d",
   "metadata": {},
   "source": [
    "### Remove files from AWS"
   ]
  },
  {
   "cell_type": "code",
   "execution_count": null,
   "id": "e4a86266-31f4-4393-bf95-bb28c9399522",
   "metadata": {},
   "outputs": [],
   "source": [
    "# !aws --profile user1 s3 rm --recursive s3://dea-public-data-dev/ga_s2_gm_cyear_3/ --dryrun"
   ]
  },
  {
   "cell_type": "markdown",
   "id": "1f225904-1836-48af-8517-5bf3e5a7be41",
   "metadata": {},
   "source": [
    "## Remove all local files"
   ]
  },
  {
   "cell_type": "code",
   "execution_count": null,
   "id": "038f4585-8dc8-4981-be95-abf67a712f79",
   "metadata": {},
   "outputs": [],
   "source": [
    "# !rm -r -f results/ga_s2_gm_cyear_3/"
   ]
  }
 ],
 "metadata": {
  "kernelspec": {
   "display_name": "Python 3 (ipykernel)",
   "language": "python",
   "name": "python3"
  },
  "language_info": {
   "codemirror_mode": {
    "name": "ipython",
    "version": 3
   },
   "file_extension": ".py",
   "mimetype": "text/x-python",
   "name": "python",
   "nbconvert_exporter": "python",
   "pygments_lexer": "ipython3",
   "version": "3.10.15"
  }
 },
 "nbformat": 4,
 "nbformat_minor": 5
}
