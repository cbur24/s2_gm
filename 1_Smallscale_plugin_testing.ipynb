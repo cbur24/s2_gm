{
 "cells": [
  {
   "cell_type": "markdown",
   "id": "0c2dc7f8-8b93-4468-b648-86461e3b85d3",
   "metadata": {},
   "source": [
    "# Small scale Sentinel-2 Geomedian run with odc-stats\n",
    "\n",
    "Useful links:\n",
    "* [odc-stats](https://github.com/opendatacube/odc-stats)\n",
    "* [crop-mask plugin](https://github.com/digitalearthafrica/crop-mask/blob/main/production/cm_tools/cm_tools/gm_ml_pred.py)\n",
    "* [NDVI-Climatology testing](https://github.com/digitalearthafrica/ndvi-anomalies/blob/main/production/1_Plugin_testing_climatology.ipynb)\n",
    "* [odc-algo geomedians](https://github.com/opendatacube/odc-algo/blob/main/odc/algo/_geomedian.py#L337)\n",
    "* [example geomedian config files](https://github.com/GeoscienceAustralia/dea-config/tree/09fa937a9c79e3505e85d2364a30bc002ca0c5f3/dev/services/odc-stats/geomedian)\n",
    "* DEA-config for other [geomedians runs](https://github.com/GeoscienceAustralia/dea-config/tree/09fa937a9c79e3505e85d2364a30bc002ca0c5f3/dev/services/odc-stats/geomedian)\n",
    "\n",
    "Next steps:\n",
    "- Add config to dea-config\n",
    "- Add plugin to odc-stats, which should trigger a docker image release, which will then allow the plugin to work in Argo workflows"
   ]
  },
  {
   "cell_type": "code",
   "execution_count": null,
   "id": "2e5510ac-a4cb-47db-b58d-534e4ae98307",
   "metadata": {},
   "outputs": [],
   "source": [
    "# !pip uninstall s2_gm_tools -y\n",
    "# !pip install s2_gm_tools/"
   ]
  },
  {
   "cell_type": "code",
   "execution_count": null,
   "id": "fcb8abd6-384e-4c95-81a5-09c7df86f80b",
   "metadata": {},
   "outputs": [],
   "source": [
    "import os\n",
    "import json\n",
    "import warnings\n",
    "import xarray as xr\n",
    "import rioxarray as rxr\n",
    "import geopandas as gpd\n",
    "import matplotlib.pyplot as plt\n",
    "from odc.geo.xr import assign_crs\n",
    "from odc.stats.tasks import TaskReader\n",
    "from odc.stats.model import OutputProduct\n",
    "\n",
    "warnings.filterwarnings(\"ignore\")"
   ]
  },
  {
   "cell_type": "markdown",
   "id": "51eadcd4-fcd0-4d68-a8b6-0d6b617bbaaf",
   "metadata": {},
   "source": [
    "## Analysis Parameters\n",
    "\n",
    "Some tile ids to run\n",
    "* 'x43y14' # se aus forests Alps.\n",
    "* 'x39y09' # West tassie\n",
    "* 'x33y26' # Central Aus with salt lakes\n",
    "* 'x31y43' # Tropical NT\n",
    "* 'x19y18' # Esperance crops and sand dunes\n",
    "* 'x42y38' # Qld tropical forests\n",
    "* 'x39y13' # Melbourne city and bay+crops\n",
    "* 'x12y19' # Perth City\n",
    "* 'x41y12' # Complex coastal in Vic."
   ]
  },
  {
   "cell_type": "code",
   "execution_count": null,
   "id": "7ecc708c-1e1d-4cc5-9f87-647037984cac",
   "metadata": {},
   "outputs": [],
   "source": [
    "# tiles = ['x30y34','x36y52','x61y30','x58y22','x57y28', 'x61y29', 'x64y32', 'x65y40', 'x60y53' ,'x55y51', 'x46y58', 'x46y46', 'x36y34']\n",
    "# gdf = gpd.read_file('~/gdata1/projects/s2_gm/testing_tile_suite.geojson')\n",
    "\n",
    "# gdf = gdf[gdf['region_code'].isin(tiles)]\n",
    "# gdf.reset_index(drop=True).to_file('~/gdata1/projects/s2_gm/testing_tile_suite_13tiles.geojson')"
   ]
  },
  {
   "cell_type": "code",
   "execution_count": null,
   "id": "c8d46250-ec43-482c-bb43-fb13cb1533d0",
   "metadata": {},
   "outputs": [],
   "source": [
    "year='2022' \n",
    "t_range = '2020--P3Y'\n",
    "t = 107,073 # tile id to run i.e. x19y18\n",
    "resolution = 10 # can coarsen resolution to run to speed up testing\n",
    "products='ga_s2am_ard_3-ga_s2bm_ard_3-ga_s2cm_ard_3' # use all S2 observations\n",
    "name, version = 'ga_s2_gm_cyear_3', '0-0-1' #product name and version\n",
    "results = '/gdata1/projects/s2_gm/results/' #where are we outputting results?\n",
    "ncpus=30\n",
    "mem='470Gi'"
   ]
  },
  {
   "cell_type": "markdown",
   "id": "a647db17-9b8b-4c73-8dcf-f0b9a35b96f5",
   "metadata": {},
   "source": [
    "## Save tasks database etc."
   ]
  },
  {
   "cell_type": "code",
   "execution_count": null,
   "id": "fe4d389a-d341-4a4f-9f8d-3f01f0e8ab75",
   "metadata": {},
   "outputs": [],
   "source": [
    "os.system(\"odc-stats save-tasks \"\\\n",
    "          \"--grid au_extended_10 \"\\\n",
    "          f\"--input-products {products} \"\\\n",
    "          f\"--temporal-range {t_range} \"\\\n",
    "          f\"--frequency all\"\n",
    "          # --dataset-filter {\"skip_broken_datasets\": \"True\"}' #NOT SURE HOW TO IMPLEMENT\n",
    "         )\n",
    "\n",
    "# !odc-stats save-tasks --grid au-10 --input-products {products} --temporal-range 2020--P5Y --frequency all --dataset-filter '{\"skip_broken_datasets\": \"True\"}'"
   ]
  },
  {
   "cell_type": "markdown",
   "id": "5169d15f-1204-4261-8d9d-6abc073471a5",
   "metadata": {},
   "source": [
    "## Find the tile ID to run\n",
    "\n",
    "We'll pass this index to odc-stats next to tell it to run this tile"
   ]
  },
  {
   "cell_type": "code",
   "execution_count": null,
   "id": "6cbf6e78-f305-42ce-9f75-a314606e6368",
   "metadata": {},
   "outputs": [],
   "source": [
    "## Open the task database to find out tiles\n",
    "op = OutputProduct(\n",
    "            name=name,\n",
    "            version=version,\n",
    "            short_name=name,\n",
    "            location=f\"s3://dummy-bucket/{name}/{version}\",\n",
    "            properties={\"odc:file_format\": \"GeoTIFF\"},\n",
    "            measurements=['nbart_red'],\n",
    "        )\n",
    "\n",
    "taskdb = TaskReader(f'{products}_{t_range}.db', product=op)\n",
    "task = taskdb.load_task((f'{t_range}', t[0], t[1]))\n",
    "\n",
    "# Now find index of the tile we want to run\n",
    "# We'll pass this index to odc-stats next to tell it to run this tile\n",
    "tile_index_to_run = []\n",
    "all_tiles = list(taskdb.all_tiles)\n",
    "for i, index in zip(all_tiles, range(0, len(all_tiles))):\n",
    "    if (i[1]==t[0]) & (i[2]==t[1]):\n",
    "        tile_index_to_run.append(index)\n",
    "        print(index)"
   ]
  },
  {
   "cell_type": "markdown",
   "id": "b546fa85-deba-4fcd-9b65-4ec3a1ac1732",
   "metadata": {},
   "source": [
    "### Optionally view tile to check location\n",
    "\n",
    "The next cell will plot the tile extent on an interactive map so you can ensure its the tile you want to run."
   ]
  },
  {
   "cell_type": "code",
   "execution_count": null,
   "id": "c84262d7-8e84-4859-abbf-e1935f9ab733",
   "metadata": {},
   "outputs": [],
   "source": [
    "# with open('task_tile_check.geojson', 'w') as fh:\n",
    "#     json.dump(task.geobox.extent.to_crs('epsg:4326').json, fh, indent=2)\n",
    "\n",
    "gdf = gpd.GeoDataFrame(index=[0], crs='epsg:4326', geometry=[task.geobox.extent.to_crs('epsg:4326').geom])\n",
    "gdf.explore()"
   ]
  },
  {
   "cell_type": "markdown",
   "id": "3d10a354-8256-4645-b9be-4c9ea92a750f",
   "metadata": {},
   "source": [
    "## Run the geomedian algo using odc-stats\n",
    "\n",
    "Put this link into the dask dashboard to view the progress, altering the email address to yours: https://app.sandbox.dea.ga.gov.au/user/chad.burton@ga.gov.au/proxy/8787/status"
   ]
  },
  {
   "cell_type": "code",
   "execution_count": null,
   "id": "81ac5cef-9ace-4932-b17a-cd730242836e",
   "metadata": {},
   "outputs": [],
   "source": [
    "!pip uninstall s2_gm_tools -y\n",
    "!pip install s2_gm_tools/"
   ]
  },
  {
   "cell_type": "code",
   "execution_count": null,
   "id": "7d988b07-8ae9-4bb6-8d93-6b3228a1587b",
   "metadata": {
    "scrolled": true
   },
   "outputs": [],
   "source": [
    "%%time\n",
    "os.system(\"odc-stats run \"\\\n",
    "          f\"{products}_{t_range}.db \"\\\n",
    "          \"--config=s2_gm_tools/s2_gm_tools/config/config_gm_s2_annual_s2Cloudless_enhanced.yaml \"\\\n",
    "          f\"--resolution={10} \"\\\n",
    "          f\"--threads={ncpus} \"\\\n",
    "          f\"--memory-limit={mem} \"\\\n",
    "          f\"--location=file:///home/jovyan/{results}{name}/{version} \" +str(tile_index_to_run[0])\n",
    "         )"
   ]
  },
  {
   "cell_type": "markdown",
   "id": "9c0f4565-c92b-43ae-ac91-a4b9dc0f29da",
   "metadata": {},
   "source": [
    "## Plot the RGBA output"
   ]
  },
  {
   "cell_type": "code",
   "execution_count": null,
   "id": "7dc07dec-a05f-416a-b7b1-6823c35741e4",
   "metadata": {},
   "outputs": [],
   "source": [
    "# t = 3,19  # tile id\n",
    "name, version = 'ga_s2_gm_cyear_3', '0-0-1'\n",
    "results = '/gdata1/projects/s2_gm/results/'"
   ]
  },
  {
   "cell_type": "code",
   "execution_count": null,
   "id": "f3e6046e-2332-4e8d-b1e2-6a1bdffbe64d",
   "metadata": {},
   "outputs": [],
   "source": [
    "x= f'x{t[0]}'\n",
    "y= f'y{t[1]}'\n",
    "\n",
    "path = f'{results}{name}/{version}/{x}/{y}/{t_range}/{name}_{x}{y}_{t_range}_final_rgba.tif'\n",
    "rgba=rxr.open_rasterio(path)\n",
    "rgba=assign_crs(rgba, crs='EPSG:3577')\n",
    "\n",
    "rgba.plot.imshow(size=7);\n",
    "plt.title(x+y);"
   ]
  },
  {
   "cell_type": "markdown",
   "id": "b97a82e2-3cca-486c-bf3f-a92f54a02db1",
   "metadata": {},
   "source": [
    "## Interactively explore results"
   ]
  },
  {
   "cell_type": "code",
   "execution_count": null,
   "id": "159667c2-3a7d-4abc-80fc-b9521ceca71c",
   "metadata": {},
   "outputs": [],
   "source": [
    "red_path = f'{results}{name}/{version}/{x}/{y}/{t_range}/{name}_{x}{y}_{t_range}_final_nbart_red.tif'\n",
    "green_path = f'{results}{name}/{version}/{x}/{y}/{t_range}/{name}_{x}{y}_{t_range}_final_nbart_green.tif'\n",
    "blue_path = f'{results}{name}/{version}/{x}/{y}/{t_range}/{name}_{x}{y}_{t_range}_final_nbart_blue.tif'\n",
    "count_path = f'{results}{name}/{version}/{x}/{y}/{t_range}/{name}_{x}{y}_{t_range}_final_count.tif'\n",
    "\n",
    "emad_path = f'{results}{name}/{version}/{x}/{y}/{t_range}/{name}_{x}{y}_{t_range}_final_emad.tif'\n",
    "bcmad_path = f'{results}{name}/{version}/{x}/{y}/{t_range}/{name}_{x}{y}_{t_range}_final_bcmad.tif'\n",
    "smad_path = f'{results}{name}/{version}/{x}/{y}/{t_range}/{name}_{x}{y}_{t_range}_final_smad.tif'\n",
    "\n",
    "r=assign_crs(rxr.open_rasterio(red_path).squeeze().drop_vars('band'),crs='EPSG:3577')\n",
    "g=assign_crs(rxr.open_rasterio(green_path).squeeze().drop_vars('band'),crs='EPSG:3577')\n",
    "b=assign_crs(rxr.open_rasterio(blue_path).squeeze().drop_vars('band'),crs='EPSG:3577')\n",
    "\n",
    "# e=assign_crs(rxr.open_rasterio(emad_path).squeeze().drop_vars('band'),crs='EPSG:3577')\n",
    "# s=assign_crs(rxr.open_rasterio(smad_path).squeeze().drop_vars('band'),crs='EPSG:3577')\n",
    "# bc=assign_crs(rxr.open_rasterio(bcmad_path).squeeze().drop_vars('band'),crs='EPSG:3577')\n",
    "\n",
    "r = r.rename('nbart_red')\n",
    "g = g.rename('nbart_green')\n",
    "b = b.rename('nbart_blue')\n",
    "\n",
    "# e = e.rename('emad')\n",
    "# s = s.rename('smad')\n",
    "# bc = bc.rename('bcmad')\n",
    "\n",
    "ds = assign_crs(xr.merge([r,g,b]), crs='EPSG:3577')"
   ]
  },
  {
   "cell_type": "code",
   "execution_count": null,
   "id": "74656fa2-5a14-4390-be25-8668d0cf58c2",
   "metadata": {},
   "outputs": [],
   "source": [
    "count=assign_crs(rxr.open_rasterio(count_path).squeeze().drop_vars('band'),crs='EPSG:3577')\n",
    "\n",
    "mean_clear_updated = count.mean().item()\n",
    "min_clear_updated = count.min().item()\n",
    "max_clear_updated = count.max().item()\n",
    "\n",
    "print(f'Updated masking clear counts (min, mean, max) = {min_clear_updated}, {mean_clear_updated:.0f}, {max_clear_updated}')\n",
    "\n",
    "count.plot(cmap='magma', vmin=10, vmax=90, size=8);"
   ]
  },
  {
   "cell_type": "code",
   "execution_count": null,
   "id": "666ade5a-28ab-4fd5-a3ce-9b174d13b832",
   "metadata": {},
   "outputs": [],
   "source": [
    "vmin, vmax = ds[['nbart_red', 'nbart_green', 'nbart_blue']].to_array().quantile((0.01, 0.99)).values\n",
    "\n",
    "ds.odc.explore(vmin=vmin,\n",
    "    vmax=vmax,\n",
    "    # tiles = 'https://server.arcgisonline.com/ArcGIS/rest/services/World_Imagery/MapServer/tile/{z}/{y}/{x}',\n",
    "    # attr = 'Esri',\n",
    "    # name = 'Esri Satellite'\n",
    "              )"
   ]
  },
  {
   "cell_type": "code",
   "execution_count": null,
   "id": "765ce074-cecf-45c0-9050-7a418fa7e7e1",
   "metadata": {},
   "outputs": [],
   "source": [
    "bands =['smad', 'emad','bcmad']\n",
    "vmin, vmax = ds[bands].to_array().quantile((0.01, 0.99)).values\n",
    "\n",
    "ds[bands].odc.explore(bands=bands, \n",
    "    vmin=vmin,\n",
    "    vmax=vmax,\n",
    "    # bands=bands,         \n",
    "    # tiles = 'https://server.arcgisonline.com/ArcGIS/rest/services/World_Imagery/MapServer/tile/{z}/{y}/{x}',\n",
    "    # attr = 'Esri',\n",
    "    # name = 'Esri Satellite'\n",
    "              )"
   ]
  },
  {
   "cell_type": "markdown",
   "id": "1f225904-1836-48af-8517-5bf3e5a7be41",
   "metadata": {},
   "source": [
    "## Remove all files"
   ]
  },
  {
   "cell_type": "code",
   "execution_count": null,
   "id": "038f4585-8dc8-4981-be95-abf67a712f79",
   "metadata": {},
   "outputs": [],
   "source": [
    "!rm -r -f results/ga_s2_gm_cyear_3/"
   ]
  },
  {
   "cell_type": "markdown",
   "id": "8fae39d8-2257-487c-aac8-be79b46c3c5d",
   "metadata": {},
   "source": [
    "## Run a list of tiles in parallel"
   ]
  },
  {
   "cell_type": "code",
   "execution_count": null,
   "id": "a5327997-3201-403a-a3db-038a8875cd69",
   "metadata": {},
   "outputs": [],
   "source": [
    "# procs = []\n",
    "# for ip in input_paras:\n",
    "#     grid = str(ip[0]) + \":\" + str(int(ip[0])+1)+\",\" + str(ip[1]) + \":\" + str(int(ip[1]) + 1)\n",
    "#     # grid = ip\n",
    "#     print(grid)\n",
    "#     db_name = \"tc_percentile_\" + str(ip[0]) + '_' + str(ip[1]) + \".db\"\n",
    "#     procs += [Popen([\"odc-stats\", \"save-tasks\", \"--overwrite\", \"--frequency\", \"annual\", \"--grid\", \"au-30\",\n",
    "#                      \"--tiles\", grid, \"--temporal-range\", \"1987--P36Y\", \"--input-products\", \n",
    "#                      \"ga_ls5t_ard_3-ga_ls7e_ard_3-ga_ls8c_ard_3\", \n",
    "#                      \"--gqa\", \"1\", db_name])]"
   ]
  },
  {
   "cell_type": "code",
   "execution_count": null,
   "id": "568f53d4-5cc6-4fdb-9556-69ead4c251e1",
   "metadata": {},
   "outputs": [],
   "source": [
    "# from subprocess import Popen, PIPE, TimeoutExpired\n",
    "# for ip in input_paras:\n",
    "#     grid = str(ip[0]) + \":\" + str(int(ip[0])+1)+\",\" + str(ip[1]) + \":\" + str(int(ip[1]) + 1)\n",
    "#     print(grid)\n",
    "#     db_name = \"tc_percentile_\" + str(ip[0]) + '_' + str(ip[1]) + \".db\"\n",
    "    \n",
    "#     p = Popen([\"odc-stats\", \"run\", \"--threads\",  \"8\", \n",
    "#                \"--config\", \"ga_ls_tc_pc_cyear_3.yaml\", \n",
    "#                \"--location\", \"s3://dea-public-data-dev/test/tcw-percentiles-dilation-6\", db_name], )"
   ]
  }
 ],
 "metadata": {
  "kernelspec": {
   "display_name": "Python 3 (ipykernel)",
   "language": "python",
   "name": "python3"
  },
  "language_info": {
   "codemirror_mode": {
    "name": "ipython",
    "version": 3
   },
   "file_extension": ".py",
   "mimetype": "text/x-python",
   "name": "python",
   "nbconvert_exporter": "python",
   "pygments_lexer": "ipython3",
   "version": "3.10.15"
  }
 },
 "nbformat": 4,
 "nbformat_minor": 5
}
